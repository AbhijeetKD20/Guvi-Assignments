{
  "nbformat": 4,
  "nbformat_minor": 0,
  "metadata": {
    "colab": {
      "name": "Assignment_04 Boston_House_Dataset_01",
      "provenance": [],
      "collapsed_sections": [],
      "authorship_tag": "ABX9TyOf4QF/Z1spz0Qht0AhvVR2",
      "include_colab_link": true
    },
    "kernelspec": {
      "name": "python3",
      "display_name": "Python 3"
    },
    "language_info": {
      "name": "python"
    }
  },
  "cells": [
    {
      "cell_type": "markdown",
      "metadata": {
        "id": "view-in-github",
        "colab_type": "text"
      },
      "source": [
        "<a href=\"https://colab.research.google.com/github/AbhijeetKD20/Guvi-Assignments/blob/main/Assignment_04_Boston_House_Dataset_01.ipynb\" target=\"_parent\"><img src=\"https://colab.research.google.com/assets/colab-badge.svg\" alt=\"Open In Colab\"/></a>"
      ]
    },
    {
      "cell_type": "markdown",
      "source": [
        "20th july"
      ],
      "metadata": {
        "id": "pjDv4dou_A2V"
      }
    },
    {
      "cell_type": "code",
      "execution_count": null,
      "metadata": {
        "id": "u0hRWb73qE6U"
      },
      "outputs": [],
      "source": [
        "import numpy as np \n",
        "import pandas as pd\n",
        "import matplotlib.pyplot as plt"
      ]
    },
    {
      "cell_type": "code",
      "source": [
        "dataset = pd.read_csv(\"train.csv\")\n",
        "dataset.head(3)"
      ],
      "metadata": {
        "colab": {
          "base_uri": "https://localhost:8080/",
          "height": 143
        },
        "id": "MZRxrxdkqh5t",
        "outputId": "9d8b9b92-5f91-44d0-9f23-5dc103622158"
      },
      "execution_count": null,
      "outputs": [
        {
          "output_type": "execute_result",
          "data": {
            "text/plain": [
              "   ID     CRIM    ZN  INDUS  CHAS    NOX     RM   AGE     DIS  RAD    TAX  \\\n",
              "0   0  0.95577   0.0   8.14     0  0.538  6.047  88.8  4.4534    4  307.0   \n",
              "1   1  0.02875  28.0  15.04     0  0.464  6.211  28.9  3.6659    4  270.0   \n",
              "2   2  1.22358   0.0  19.58     0  0.605  6.943  97.4  1.8773    5  403.0   \n",
              "\n",
              "   PTRATIO       B  LSTAT  MEDV  \n",
              "0     21.0  306.38  17.28  14.8  \n",
              "1     18.2  396.33   6.21  25.0  \n",
              "2     14.7  363.43   4.59  41.3  "
            ],
            "text/html": [
              "\n",
              "  <div id=\"df-f9064b6b-9e70-4e52-9332-52de7da738f6\">\n",
              "    <div class=\"colab-df-container\">\n",
              "      <div>\n",
              "<style scoped>\n",
              "    .dataframe tbody tr th:only-of-type {\n",
              "        vertical-align: middle;\n",
              "    }\n",
              "\n",
              "    .dataframe tbody tr th {\n",
              "        vertical-align: top;\n",
              "    }\n",
              "\n",
              "    .dataframe thead th {\n",
              "        text-align: right;\n",
              "    }\n",
              "</style>\n",
              "<table border=\"1\" class=\"dataframe\">\n",
              "  <thead>\n",
              "    <tr style=\"text-align: right;\">\n",
              "      <th></th>\n",
              "      <th>ID</th>\n",
              "      <th>CRIM</th>\n",
              "      <th>ZN</th>\n",
              "      <th>INDUS</th>\n",
              "      <th>CHAS</th>\n",
              "      <th>NOX</th>\n",
              "      <th>RM</th>\n",
              "      <th>AGE</th>\n",
              "      <th>DIS</th>\n",
              "      <th>RAD</th>\n",
              "      <th>TAX</th>\n",
              "      <th>PTRATIO</th>\n",
              "      <th>B</th>\n",
              "      <th>LSTAT</th>\n",
              "      <th>MEDV</th>\n",
              "    </tr>\n",
              "  </thead>\n",
              "  <tbody>\n",
              "    <tr>\n",
              "      <th>0</th>\n",
              "      <td>0</td>\n",
              "      <td>0.95577</td>\n",
              "      <td>0.0</td>\n",
              "      <td>8.14</td>\n",
              "      <td>0</td>\n",
              "      <td>0.538</td>\n",
              "      <td>6.047</td>\n",
              "      <td>88.8</td>\n",
              "      <td>4.4534</td>\n",
              "      <td>4</td>\n",
              "      <td>307.0</td>\n",
              "      <td>21.0</td>\n",
              "      <td>306.38</td>\n",
              "      <td>17.28</td>\n",
              "      <td>14.8</td>\n",
              "    </tr>\n",
              "    <tr>\n",
              "      <th>1</th>\n",
              "      <td>1</td>\n",
              "      <td>0.02875</td>\n",
              "      <td>28.0</td>\n",
              "      <td>15.04</td>\n",
              "      <td>0</td>\n",
              "      <td>0.464</td>\n",
              "      <td>6.211</td>\n",
              "      <td>28.9</td>\n",
              "      <td>3.6659</td>\n",
              "      <td>4</td>\n",
              "      <td>270.0</td>\n",
              "      <td>18.2</td>\n",
              "      <td>396.33</td>\n",
              "      <td>6.21</td>\n",
              "      <td>25.0</td>\n",
              "    </tr>\n",
              "    <tr>\n",
              "      <th>2</th>\n",
              "      <td>2</td>\n",
              "      <td>1.22358</td>\n",
              "      <td>0.0</td>\n",
              "      <td>19.58</td>\n",
              "      <td>0</td>\n",
              "      <td>0.605</td>\n",
              "      <td>6.943</td>\n",
              "      <td>97.4</td>\n",
              "      <td>1.8773</td>\n",
              "      <td>5</td>\n",
              "      <td>403.0</td>\n",
              "      <td>14.7</td>\n",
              "      <td>363.43</td>\n",
              "      <td>4.59</td>\n",
              "      <td>41.3</td>\n",
              "    </tr>\n",
              "  </tbody>\n",
              "</table>\n",
              "</div>\n",
              "      <button class=\"colab-df-convert\" onclick=\"convertToInteractive('df-f9064b6b-9e70-4e52-9332-52de7da738f6')\"\n",
              "              title=\"Convert this dataframe to an interactive table.\"\n",
              "              style=\"display:none;\">\n",
              "        \n",
              "  <svg xmlns=\"http://www.w3.org/2000/svg\" height=\"24px\"viewBox=\"0 0 24 24\"\n",
              "       width=\"24px\">\n",
              "    <path d=\"M0 0h24v24H0V0z\" fill=\"none\"/>\n",
              "    <path d=\"M18.56 5.44l.94 2.06.94-2.06 2.06-.94-2.06-.94-.94-2.06-.94 2.06-2.06.94zm-11 1L8.5 8.5l.94-2.06 2.06-.94-2.06-.94L8.5 2.5l-.94 2.06-2.06.94zm10 10l.94 2.06.94-2.06 2.06-.94-2.06-.94-.94-2.06-.94 2.06-2.06.94z\"/><path d=\"M17.41 7.96l-1.37-1.37c-.4-.4-.92-.59-1.43-.59-.52 0-1.04.2-1.43.59L10.3 9.45l-7.72 7.72c-.78.78-.78 2.05 0 2.83L4 21.41c.39.39.9.59 1.41.59.51 0 1.02-.2 1.41-.59l7.78-7.78 2.81-2.81c.8-.78.8-2.07 0-2.86zM5.41 20L4 18.59l7.72-7.72 1.47 1.35L5.41 20z\"/>\n",
              "  </svg>\n",
              "      </button>\n",
              "      \n",
              "  <style>\n",
              "    .colab-df-container {\n",
              "      display:flex;\n",
              "      flex-wrap:wrap;\n",
              "      gap: 12px;\n",
              "    }\n",
              "\n",
              "    .colab-df-convert {\n",
              "      background-color: #E8F0FE;\n",
              "      border: none;\n",
              "      border-radius: 50%;\n",
              "      cursor: pointer;\n",
              "      display: none;\n",
              "      fill: #1967D2;\n",
              "      height: 32px;\n",
              "      padding: 0 0 0 0;\n",
              "      width: 32px;\n",
              "    }\n",
              "\n",
              "    .colab-df-convert:hover {\n",
              "      background-color: #E2EBFA;\n",
              "      box-shadow: 0px 1px 2px rgba(60, 64, 67, 0.3), 0px 1px 3px 1px rgba(60, 64, 67, 0.15);\n",
              "      fill: #174EA6;\n",
              "    }\n",
              "\n",
              "    [theme=dark] .colab-df-convert {\n",
              "      background-color: #3B4455;\n",
              "      fill: #D2E3FC;\n",
              "    }\n",
              "\n",
              "    [theme=dark] .colab-df-convert:hover {\n",
              "      background-color: #434B5C;\n",
              "      box-shadow: 0px 1px 3px 1px rgba(0, 0, 0, 0.15);\n",
              "      filter: drop-shadow(0px 1px 2px rgba(0, 0, 0, 0.3));\n",
              "      fill: #FFFFFF;\n",
              "    }\n",
              "  </style>\n",
              "\n",
              "      <script>\n",
              "        const buttonEl =\n",
              "          document.querySelector('#df-f9064b6b-9e70-4e52-9332-52de7da738f6 button.colab-df-convert');\n",
              "        buttonEl.style.display =\n",
              "          google.colab.kernel.accessAllowed ? 'block' : 'none';\n",
              "\n",
              "        async function convertToInteractive(key) {\n",
              "          const element = document.querySelector('#df-f9064b6b-9e70-4e52-9332-52de7da738f6');\n",
              "          const dataTable =\n",
              "            await google.colab.kernel.invokeFunction('convertToInteractive',\n",
              "                                                     [key], {});\n",
              "          if (!dataTable) return;\n",
              "\n",
              "          const docLinkHtml = 'Like what you see? Visit the ' +\n",
              "            '<a target=\"_blank\" href=https://colab.research.google.com/notebooks/data_table.ipynb>data table notebook</a>'\n",
              "            + ' to learn more about interactive tables.';\n",
              "          element.innerHTML = '';\n",
              "          dataTable['output_type'] = 'display_data';\n",
              "          await google.colab.output.renderOutput(dataTable, element);\n",
              "          const docLink = document.createElement('div');\n",
              "          docLink.innerHTML = docLinkHtml;\n",
              "          element.appendChild(docLink);\n",
              "        }\n",
              "      </script>\n",
              "    </div>\n",
              "  </div>\n",
              "  "
            ]
          },
          "metadata": {},
          "execution_count": 2
        }
      ]
    },
    {
      "cell_type": "code",
      "source": [
        "#Checking for null values\n",
        "dataset.isnull().sum()"
      ],
      "metadata": {
        "colab": {
          "base_uri": "https://localhost:8080/"
        },
        "id": "9yeGVHggqvPf",
        "outputId": "ff289d12-f1e6-4647-b927-b5f0a58a1edb"
      },
      "execution_count": null,
      "outputs": [
        {
          "output_type": "execute_result",
          "data": {
            "text/plain": [
              "ID         0\n",
              "CRIM       0\n",
              "ZN         0\n",
              "INDUS      0\n",
              "CHAS       0\n",
              "NOX        0\n",
              "RM         0\n",
              "AGE        0\n",
              "DIS        0\n",
              "RAD        0\n",
              "TAX        0\n",
              "PTRATIO    0\n",
              "B          0\n",
              "LSTAT      0\n",
              "MEDV       0\n",
              "dtype: int64"
            ]
          },
          "metadata": {},
          "execution_count": 3
        }
      ]
    },
    {
      "cell_type": "code",
      "source": [
        "dataset.describe()"
      ],
      "metadata": {
        "colab": {
          "base_uri": "https://localhost:8080/",
          "height": 364
        },
        "id": "vaB9tsd_q3oQ",
        "outputId": "f208f10b-96c1-4bac-e6c2-ea8fe2b042be"
      },
      "execution_count": null,
      "outputs": [
        {
          "output_type": "execute_result",
          "data": {
            "text/plain": [
              "               ID        CRIM          ZN       INDUS        CHAS         NOX  \\\n",
              "count  400.000000  400.000000  400.000000  400.000000  400.000000  400.000000   \n",
              "mean   199.500000    3.757191   10.970000   10.936425    0.072500    0.552817   \n",
              "std    115.614301    9.155496   22.796261    6.848042    0.259639    0.115488   \n",
              "min      0.000000    0.009060    0.000000    0.460000    0.000000    0.385000   \n",
              "25%     99.750000    0.077820    0.000000    5.130000    0.000000    0.449000   \n",
              "50%    199.500000    0.242170    0.000000    8.560000    0.000000    0.532000   \n",
              "75%    299.250000    3.543427   12.500000   18.100000    0.000000    0.624000   \n",
              "max    399.000000   88.976200   95.000000   27.740000    1.000000    0.871000   \n",
              "\n",
              "               RM         AGE         DIS         RAD         TAX     PTRATIO  \\\n",
              "count  400.000000  400.000000  400.000000  400.000000  400.000000  400.000000   \n",
              "mean     6.292165   68.086000    3.819462    9.462500  403.797500   18.459000   \n",
              "std      0.709923   28.386888    2.132445    8.687478  169.656816    2.148105   \n",
              "min      4.138000    2.900000    1.129600    1.000000  187.000000   12.600000   \n",
              "25%      5.877500   42.375000    2.109150    4.000000  277.000000   17.400000   \n",
              "50%      6.208500   76.950000    3.272100    5.000000  329.000000   18.950000   \n",
              "75%      6.620500   93.825000    5.214600   24.000000  666.000000   20.200000   \n",
              "max      8.780000  100.000000   12.126500   24.000000  711.000000   22.000000   \n",
              "\n",
              "                B       LSTAT        MEDV  \n",
              "count  400.000000  400.000000  400.000000  \n",
              "mean   359.455375   12.668525   22.475750  \n",
              "std     86.732906    7.207047    9.218611  \n",
              "min      0.320000    1.920000    5.000000  \n",
              "25%    376.115000    6.990000   17.100000  \n",
              "50%    391.575000   10.875000   21.000000  \n",
              "75%    396.285000   16.910000   25.000000  \n",
              "max    396.900000   37.970000   50.000000  "
            ],
            "text/html": [
              "\n",
              "  <div id=\"df-98e9f966-32d7-4164-ac43-516dab736bda\">\n",
              "    <div class=\"colab-df-container\">\n",
              "      <div>\n",
              "<style scoped>\n",
              "    .dataframe tbody tr th:only-of-type {\n",
              "        vertical-align: middle;\n",
              "    }\n",
              "\n",
              "    .dataframe tbody tr th {\n",
              "        vertical-align: top;\n",
              "    }\n",
              "\n",
              "    .dataframe thead th {\n",
              "        text-align: right;\n",
              "    }\n",
              "</style>\n",
              "<table border=\"1\" class=\"dataframe\">\n",
              "  <thead>\n",
              "    <tr style=\"text-align: right;\">\n",
              "      <th></th>\n",
              "      <th>ID</th>\n",
              "      <th>CRIM</th>\n",
              "      <th>ZN</th>\n",
              "      <th>INDUS</th>\n",
              "      <th>CHAS</th>\n",
              "      <th>NOX</th>\n",
              "      <th>RM</th>\n",
              "      <th>AGE</th>\n",
              "      <th>DIS</th>\n",
              "      <th>RAD</th>\n",
              "      <th>TAX</th>\n",
              "      <th>PTRATIO</th>\n",
              "      <th>B</th>\n",
              "      <th>LSTAT</th>\n",
              "      <th>MEDV</th>\n",
              "    </tr>\n",
              "  </thead>\n",
              "  <tbody>\n",
              "    <tr>\n",
              "      <th>count</th>\n",
              "      <td>400.000000</td>\n",
              "      <td>400.000000</td>\n",
              "      <td>400.000000</td>\n",
              "      <td>400.000000</td>\n",
              "      <td>400.000000</td>\n",
              "      <td>400.000000</td>\n",
              "      <td>400.000000</td>\n",
              "      <td>400.000000</td>\n",
              "      <td>400.000000</td>\n",
              "      <td>400.000000</td>\n",
              "      <td>400.000000</td>\n",
              "      <td>400.000000</td>\n",
              "      <td>400.000000</td>\n",
              "      <td>400.000000</td>\n",
              "      <td>400.000000</td>\n",
              "    </tr>\n",
              "    <tr>\n",
              "      <th>mean</th>\n",
              "      <td>199.500000</td>\n",
              "      <td>3.757191</td>\n",
              "      <td>10.970000</td>\n",
              "      <td>10.936425</td>\n",
              "      <td>0.072500</td>\n",
              "      <td>0.552817</td>\n",
              "      <td>6.292165</td>\n",
              "      <td>68.086000</td>\n",
              "      <td>3.819462</td>\n",
              "      <td>9.462500</td>\n",
              "      <td>403.797500</td>\n",
              "      <td>18.459000</td>\n",
              "      <td>359.455375</td>\n",
              "      <td>12.668525</td>\n",
              "      <td>22.475750</td>\n",
              "    </tr>\n",
              "    <tr>\n",
              "      <th>std</th>\n",
              "      <td>115.614301</td>\n",
              "      <td>9.155496</td>\n",
              "      <td>22.796261</td>\n",
              "      <td>6.848042</td>\n",
              "      <td>0.259639</td>\n",
              "      <td>0.115488</td>\n",
              "      <td>0.709923</td>\n",
              "      <td>28.386888</td>\n",
              "      <td>2.132445</td>\n",
              "      <td>8.687478</td>\n",
              "      <td>169.656816</td>\n",
              "      <td>2.148105</td>\n",
              "      <td>86.732906</td>\n",
              "      <td>7.207047</td>\n",
              "      <td>9.218611</td>\n",
              "    </tr>\n",
              "    <tr>\n",
              "      <th>min</th>\n",
              "      <td>0.000000</td>\n",
              "      <td>0.009060</td>\n",
              "      <td>0.000000</td>\n",
              "      <td>0.460000</td>\n",
              "      <td>0.000000</td>\n",
              "      <td>0.385000</td>\n",
              "      <td>4.138000</td>\n",
              "      <td>2.900000</td>\n",
              "      <td>1.129600</td>\n",
              "      <td>1.000000</td>\n",
              "      <td>187.000000</td>\n",
              "      <td>12.600000</td>\n",
              "      <td>0.320000</td>\n",
              "      <td>1.920000</td>\n",
              "      <td>5.000000</td>\n",
              "    </tr>\n",
              "    <tr>\n",
              "      <th>25%</th>\n",
              "      <td>99.750000</td>\n",
              "      <td>0.077820</td>\n",
              "      <td>0.000000</td>\n",
              "      <td>5.130000</td>\n",
              "      <td>0.000000</td>\n",
              "      <td>0.449000</td>\n",
              "      <td>5.877500</td>\n",
              "      <td>42.375000</td>\n",
              "      <td>2.109150</td>\n",
              "      <td>4.000000</td>\n",
              "      <td>277.000000</td>\n",
              "      <td>17.400000</td>\n",
              "      <td>376.115000</td>\n",
              "      <td>6.990000</td>\n",
              "      <td>17.100000</td>\n",
              "    </tr>\n",
              "    <tr>\n",
              "      <th>50%</th>\n",
              "      <td>199.500000</td>\n",
              "      <td>0.242170</td>\n",
              "      <td>0.000000</td>\n",
              "      <td>8.560000</td>\n",
              "      <td>0.000000</td>\n",
              "      <td>0.532000</td>\n",
              "      <td>6.208500</td>\n",
              "      <td>76.950000</td>\n",
              "      <td>3.272100</td>\n",
              "      <td>5.000000</td>\n",
              "      <td>329.000000</td>\n",
              "      <td>18.950000</td>\n",
              "      <td>391.575000</td>\n",
              "      <td>10.875000</td>\n",
              "      <td>21.000000</td>\n",
              "    </tr>\n",
              "    <tr>\n",
              "      <th>75%</th>\n",
              "      <td>299.250000</td>\n",
              "      <td>3.543427</td>\n",
              "      <td>12.500000</td>\n",
              "      <td>18.100000</td>\n",
              "      <td>0.000000</td>\n",
              "      <td>0.624000</td>\n",
              "      <td>6.620500</td>\n",
              "      <td>93.825000</td>\n",
              "      <td>5.214600</td>\n",
              "      <td>24.000000</td>\n",
              "      <td>666.000000</td>\n",
              "      <td>20.200000</td>\n",
              "      <td>396.285000</td>\n",
              "      <td>16.910000</td>\n",
              "      <td>25.000000</td>\n",
              "    </tr>\n",
              "    <tr>\n",
              "      <th>max</th>\n",
              "      <td>399.000000</td>\n",
              "      <td>88.976200</td>\n",
              "      <td>95.000000</td>\n",
              "      <td>27.740000</td>\n",
              "      <td>1.000000</td>\n",
              "      <td>0.871000</td>\n",
              "      <td>8.780000</td>\n",
              "      <td>100.000000</td>\n",
              "      <td>12.126500</td>\n",
              "      <td>24.000000</td>\n",
              "      <td>711.000000</td>\n",
              "      <td>22.000000</td>\n",
              "      <td>396.900000</td>\n",
              "      <td>37.970000</td>\n",
              "      <td>50.000000</td>\n",
              "    </tr>\n",
              "  </tbody>\n",
              "</table>\n",
              "</div>\n",
              "      <button class=\"colab-df-convert\" onclick=\"convertToInteractive('df-98e9f966-32d7-4164-ac43-516dab736bda')\"\n",
              "              title=\"Convert this dataframe to an interactive table.\"\n",
              "              style=\"display:none;\">\n",
              "        \n",
              "  <svg xmlns=\"http://www.w3.org/2000/svg\" height=\"24px\"viewBox=\"0 0 24 24\"\n",
              "       width=\"24px\">\n",
              "    <path d=\"M0 0h24v24H0V0z\" fill=\"none\"/>\n",
              "    <path d=\"M18.56 5.44l.94 2.06.94-2.06 2.06-.94-2.06-.94-.94-2.06-.94 2.06-2.06.94zm-11 1L8.5 8.5l.94-2.06 2.06-.94-2.06-.94L8.5 2.5l-.94 2.06-2.06.94zm10 10l.94 2.06.94-2.06 2.06-.94-2.06-.94-.94-2.06-.94 2.06-2.06.94z\"/><path d=\"M17.41 7.96l-1.37-1.37c-.4-.4-.92-.59-1.43-.59-.52 0-1.04.2-1.43.59L10.3 9.45l-7.72 7.72c-.78.78-.78 2.05 0 2.83L4 21.41c.39.39.9.59 1.41.59.51 0 1.02-.2 1.41-.59l7.78-7.78 2.81-2.81c.8-.78.8-2.07 0-2.86zM5.41 20L4 18.59l7.72-7.72 1.47 1.35L5.41 20z\"/>\n",
              "  </svg>\n",
              "      </button>\n",
              "      \n",
              "  <style>\n",
              "    .colab-df-container {\n",
              "      display:flex;\n",
              "      flex-wrap:wrap;\n",
              "      gap: 12px;\n",
              "    }\n",
              "\n",
              "    .colab-df-convert {\n",
              "      background-color: #E8F0FE;\n",
              "      border: none;\n",
              "      border-radius: 50%;\n",
              "      cursor: pointer;\n",
              "      display: none;\n",
              "      fill: #1967D2;\n",
              "      height: 32px;\n",
              "      padding: 0 0 0 0;\n",
              "      width: 32px;\n",
              "    }\n",
              "\n",
              "    .colab-df-convert:hover {\n",
              "      background-color: #E2EBFA;\n",
              "      box-shadow: 0px 1px 2px rgba(60, 64, 67, 0.3), 0px 1px 3px 1px rgba(60, 64, 67, 0.15);\n",
              "      fill: #174EA6;\n",
              "    }\n",
              "\n",
              "    [theme=dark] .colab-df-convert {\n",
              "      background-color: #3B4455;\n",
              "      fill: #D2E3FC;\n",
              "    }\n",
              "\n",
              "    [theme=dark] .colab-df-convert:hover {\n",
              "      background-color: #434B5C;\n",
              "      box-shadow: 0px 1px 3px 1px rgba(0, 0, 0, 0.15);\n",
              "      filter: drop-shadow(0px 1px 2px rgba(0, 0, 0, 0.3));\n",
              "      fill: #FFFFFF;\n",
              "    }\n",
              "  </style>\n",
              "\n",
              "      <script>\n",
              "        const buttonEl =\n",
              "          document.querySelector('#df-98e9f966-32d7-4164-ac43-516dab736bda button.colab-df-convert');\n",
              "        buttonEl.style.display =\n",
              "          google.colab.kernel.accessAllowed ? 'block' : 'none';\n",
              "\n",
              "        async function convertToInteractive(key) {\n",
              "          const element = document.querySelector('#df-98e9f966-32d7-4164-ac43-516dab736bda');\n",
              "          const dataTable =\n",
              "            await google.colab.kernel.invokeFunction('convertToInteractive',\n",
              "                                                     [key], {});\n",
              "          if (!dataTable) return;\n",
              "\n",
              "          const docLinkHtml = 'Like what you see? Visit the ' +\n",
              "            '<a target=\"_blank\" href=https://colab.research.google.com/notebooks/data_table.ipynb>data table notebook</a>'\n",
              "            + ' to learn more about interactive tables.';\n",
              "          element.innerHTML = '';\n",
              "          dataTable['output_type'] = 'display_data';\n",
              "          await google.colab.output.renderOutput(dataTable, element);\n",
              "          const docLink = document.createElement('div');\n",
              "          docLink.innerHTML = docLinkHtml;\n",
              "          element.appendChild(docLink);\n",
              "        }\n",
              "      </script>\n",
              "    </div>\n",
              "  </div>\n",
              "  "
            ]
          },
          "metadata": {},
          "execution_count": 4
        }
      ]
    },
    {
      "cell_type": "markdown",
      "source": [
        " \n",
        "CRIM - per capita crime rate by town\n",
        "\n",
        "ZN - proportion of residential land zoned for lots over 25,000 sq.ft.\n",
        "\n",
        "INDUS - proportion of non-retail business acres per town.\n",
        "\n",
        "CHAS - Charles River dummy variable (1 if tract bounds river; 0 otherwise)\n",
        "\n",
        "NOX - nitric oxides concentration (parts per 10 million)\n",
        "\n",
        "RM - average number of rooms per dwelling\n",
        "\n",
        "AGE - proportion of owner-occupied units built prior to 1940\n",
        "\n",
        "DIS - weighted distances to five Boston employment centres\n",
        "\n",
        "RAD - index of accessibility to radial highways\n",
        "\n",
        "TAX - full-value property-tax rate per $10,000\n",
        "\n",
        "PTRATIO - pupil-teacher ratio by town\n",
        "\n",
        "B - 1000(Bk - 0.63)^2 where Bk is the proportion of blacks by town\n",
        "\n",
        "LSTAT - % lower status of the population\n",
        "\n",
        "MEDV - Median value of owner-occupied homes in $1000's"
      ],
      "metadata": {
        "id": "4ZecelaxrAls"
      }
    },
    {
      "cell_type": "markdown",
      "source": [
        "## **Working of Code**\n",
        "\n",
        "1.NumPy library would be required, so code begins by importing it\n",
        "\n",
        "2.Import phi and phi_test from train and test datasets using NumPy's loadtxt function\n",
        "\n",
        "3.Import y from train dataset using the loadtxt function\n",
        "\n",
        "4.Concatenate coloumn of 1s to right of phi and phi_test\n",
        "\n",
        "5.Apply min max scaling on each coloumn of phi and phi_test\n",
        "\n",
        "6.Apply log scaling on y\n",
        "\n",
        "7.Define a function to calculate change in error function based on phi, w and p norm\n",
        "\n",
        "8.Make a dictionary containing filenames as keys and p as values\n",
        "\n",
        "9.For each item in this dictionary\n",
        "\n",
        "9.1 Set the w to all 0s\n",
        "\n",
        "9.2 Set an appropriate value for lambda and step size\n",
        "\n",
        "9.3 Calculate new value of w\n",
        "\n",
        "9.4 Repeat steps until error between consecutive ws is less than threshold\n",
        "\n",
        "9.5 Load values of id from test data file\n",
        "\n",
        "9.6 Calculate y for test data using phi test and applying inverse log\n",
        "\n",
        "9.7 Save the ids and y according to filename from dictionary"
      ],
      "metadata": {
        "id": "gZZCoRcA8dOo"
      }
    },
    {
      "cell_type": "code",
      "source": [
        "#1. and 2. importing phi and phi_test from np.loadtxt(train.csv)\n",
        "import numpy as np\n",
        "phi = np.loadtxt(\"train.csv\", dtype = \"float\", delimiter = \",\", skiprows = 1,\n",
        "                 usecols = tuple(range(1,14)))"
      ],
      "metadata": {
        "id": "xkLZKl91sSJo"
      },
      "execution_count": null,
      "outputs": []
    },
    {
      "cell_type": "code",
      "source": [
        "#importing phi_test from np.loadtxt(test.csv)\n",
        "phi_test = np.loadtxt(\"test.csv\", dtype = \"float\", delimiter = \",\",skiprows = 1,\n",
        "                      usecols= tuple(range(1,14)))"
      ],
      "metadata": {
        "id": "6W6l1u_c7wNu"
      },
      "execution_count": null,
      "outputs": []
    },
    {
      "cell_type": "code",
      "source": [
        "# Import y from train data set\n",
        "y = np.loadtxt('train.csv', dtype='float', delimiter=',', skiprows=1,\n",
        "               usecols=14, ndmin=2)"
      ],
      "metadata": {
        "id": "Y66H37io9O66"
      },
      "execution_count": null,
      "outputs": []
    },
    {
      "cell_type": "code",
      "source": [
        "#4.Concatenate coloumn of 1s to right of phi and phi_test\n",
        "# Add a column of 1s to right of phi and phi_test\n",
        "phi_test = np.concatenate((phi_test, np.ones((105, 1))), axis=1)\n",
        "phi = np.concatenate((phi, np.ones((400, 1))), axis=1)"
      ],
      "metadata": {
        "id": "g2py1cGvBpMa"
      },
      "execution_count": null,
      "outputs": []
    },
    {
      "cell_type": "code",
      "source": [
        "#5.Apply min max scaling on each coloumn of phi and phi_test\n",
        "# Min Max scaling for phi and phi_test (Feature Engineering)\n",
        "for i in range(0, 13):\n",
        "    col_max = max(phi[:, i])\n",
        "    col_min = min(phi[:, i])\n",
        "    phi[:, i] = (phi[:, i] - col_min) / (col_max - col_min)\n",
        "    phi_test[:, i] = (phi_test[:, i] - col_min) / (col_max - col_min)"
      ],
      "metadata": {
        "id": "A4Z32aGsB5pa"
      },
      "execution_count": null,
      "outputs": []
    },
    {
      "cell_type": "code",
      "source": [
        "# 6.Log scaling on y\n",
        "y = np.log(y)"
      ],
      "metadata": {
        "id": "nhkXhe7yAVru"
      },
      "execution_count": null,
      "outputs": []
    },
    {
      "cell_type": "code",
      "source": [
        "# 7.Define a function to calculate change in error function based on phi, w and p norm\n",
        "def error_f(p, phi, w):\n",
        "    if p == 2:\n",
        "        err_func = (2 * (np.dot(np.dot(np.transpose(phi), phi), w) -\n",
        "                       np.dot(np.transpose(phi), y)) +\n",
        "                  lambd * p * np.power(np.absolute(w), (p - 1)))\n",
        "    if p < 2 and p > 1:\n",
        "        err_func = (2 * (np.dot(np.dot(np.transpose(phi), phi), w) -\n",
        "                       np.dot(np.transpose(phi), y)) +\n",
        "                  lambd * p * np.power(np.absolute(w), (p - 1)) * np.sign(w))\n",
        "    return err_func"
      ],
      "metadata": {
        "id": "f87WXm5MA_ie"
      },
      "execution_count": null,
      "outputs": []
    },
    {
      "cell_type": "code",
      "source": [
        "#8.Make a dictionary containing filenames as keys and p as values\n",
        "filenames = {'output.csv': 2.0,\n",
        "             'output_p1.csv': 1.75,\n",
        "             'output_p2.csv': 1.5,\n",
        "             'output_p3.csv': 1.3\n",
        "             }"
      ],
      "metadata": {
        "id": "gOvFzFOBD9wh"
      },
      "execution_count": null,
      "outputs": []
    },
    {
      "cell_type": "code",
      "source": [
        "#9.For each item in this dictionary\n",
        "#9.1 Set the w to all 0s\n",
        "for (fname, p) in filenames.items():\n",
        "    # Set initial w to zeros\n",
        "    w = np.zeros((14, 1))"
      ],
      "metadata": {
        "id": "49sXnCN1ERJW"
      },
      "execution_count": null,
      "outputs": []
    },
    {
      "cell_type": "code",
      "source": [
        "#9.2 Set an appropriate value for lambda and step size\n",
        "# Hyperparameter lambda value\n",
        "lambd = 0.2\n",
        "\n",
        "#max_step_size\n",
        "t = 0.0001    "
      ],
      "metadata": {
        "id": "l6JlYbOXFmYI"
      },
      "execution_count": null,
      "outputs": []
    },
    {
      "cell_type": "markdown",
      "source": [
        "9.3 Calculate new value of w\n",
        "\n",
        "9.4 Repeat steps until error between consecutive ws is less than threshold\n",
        "\n",
        "9.5 Load values of id from test data file\n",
        "\n",
        "9.6 Calculate y for test data using phi test and applying inverse log\n",
        "\n",
        "9.7 Save the ids and y according to filename from dictionary"
      ],
      "metadata": {
        "id": "S06bOtE_K-l6"
      }
    },
    {
      "cell_type": "code",
      "source": [
        "#9.3 Calculate new value of w\n",
        "w_new = w - t * error_f(p, phi, w)"
      ],
      "metadata": {
        "id": "SSEt3G2BLIRf"
      },
      "execution_count": null,
      "outputs": []
    },
    {
      "cell_type": "code",
      "source": [
        "i = 0\n",
        "# 9.4 Repeat steps until error between consecutive w is less than threshold\n",
        "while(np.linalg.norm(w_new-w) > 10 ** -10):\n",
        "  w = w_new\n",
        "  w_new = w - t * error_f(p, phi, w)\n",
        "  i = i + 1"
      ],
      "metadata": {
        "id": "tHe-NWNuLcMX"
      },
      "execution_count": null,
      "outputs": []
    },
    {
      "cell_type": "code",
      "source": [
        "#9.5 Load values of id from test data file\n",
        "id_test = np.loadtxt('test.csv', dtype='int', delimiter=',',skiprows=1, usecols=0, ndmin=2)"
      ],
      "metadata": {
        "id": "45_llMl6R1YG"
      },
      "execution_count": null,
      "outputs": []
    },
    {
      "cell_type": "code",
      "source": [
        "#9.6 Calculate y for test data using phi test and applying inverse log\n",
        "y_test = np.exp(np.dot(phi_test, w_new))"
      ],
      "metadata": {
        "id": "4GKeLaAOSFhb"
      },
      "execution_count": null,
      "outputs": []
    },
    {
      "cell_type": "code",
      "source": [
        "# 9.7 Save the ids and y according to filename from dictionary\n",
        "np.savetxt(fname, np.concatenate((id_test, y_test), axis=1),\n",
        "               delimiter=',', fmt=['%d', '%f'], header='ID,MEDV', comments='')"
      ],
      "metadata": {
        "id": "ekLpARZnSVMJ"
      },
      "execution_count": null,
      "outputs": []
    }
  ]
}